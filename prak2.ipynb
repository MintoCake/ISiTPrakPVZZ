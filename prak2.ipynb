{
  "nbformat": 4,
  "nbformat_minor": 0,
  "metadata": {
    "colab": {
      "provenance": [],
      "authorship_tag": "ABX9TyN3XF++BGc4LU8XWxpmBxCR",
      "include_colab_link": true
    },
    "kernelspec": {
      "name": "python3",
      "display_name": "Python 3"
    },
    "language_info": {
      "name": "python"
    }
  },
  "cells": [
    {
      "cell_type": "markdown",
      "metadata": {
        "id": "view-in-github",
        "colab_type": "text"
      },
      "source": [
        "<a href=\"https://colab.research.google.com/github/MintoCake/ISiTPrakPVZZ/blob/main/prak2.ipynb\" target=\"_parent\"><img src=\"https://colab.research.google.com/assets/colab-badge.svg\" alt=\"Open In Colab\"/></a>"
      ]
    },
    {
      "cell_type": "code",
      "execution_count": null,
      "metadata": {
        "id": "Lgaprvr3Fiby"
      },
      "outputs": [],
      "source": [
        "import pandas as pd\n",
        "import numpy as np\n",
        "import matplotlib.pyplot as plt\n",
        "from sklearn.cluster import KMeans\n",
        "import plotly.graph_objects as go\n",
        "from sklearn.metrics import silhouette_score\n",
        "from sklearn.cluster import AgglomerativeClustering\n",
        "from sklearn.cluster import DBSCAN\n",
        "from sklearn.preprocessing import StandardScaler"
      ]
    },
    {
      "cell_type": "markdown",
      "source": [
        "**Здесь инфа**\\\n",
        "https://dev.vk.com/ru/method/friends.get\n",
        "\n",
        "Можно с помощью мини-приложения ВК Бридж получить токен доступа и список ID друзей"
      ],
      "metadata": {
        "id": "ArjfZ9fUPYGy"
      }
    },
    {
      "cell_type": "code",
      "source": [],
      "metadata": {
        "id": "z-F0KdNRaZnF"
      },
      "execution_count": null,
      "outputs": []
    }
  ]
}